{
  "nbformat": 4,
  "nbformat_minor": 0,
  "metadata": {
    "colab": {
      "name": "Sweep Rehearsal Implementation.ipynb",
      "provenance": [],
      "collapsed_sections": []
    },
    "kernelspec": {
      "name": "python3",
      "display_name": "Python 3"
    },
    "accelerator": "GPU"
  },
  "cells": [
    {
      "cell_type": "markdown",
      "metadata": {
        "id": "UtPStcKLs-FC",
        "colab_type": "text"
      },
      "source": [
        "In this text we are implementing sweep rehearsal in Python using Keras framework\n",
        "\n",
        "However, the main difference is that here the whole new data is given as training data while in the original paper, only one novel class was introduced at a time. Randomly chosen three classes were retrained for every epoch. But remember, it was for a setting where classes were added sequentially. Not the one that we are simulating here exactly."
      ]
    },
    {
      "cell_type": "markdown",
      "metadata": {
        "id": "f-5VP7e5tL_5",
        "colab_type": "text"
      },
      "source": [
        "# Importing MNIST and Fashion datasets"
      ]
    },
    {
      "cell_type": "code",
      "metadata": {
        "id": "8LaQbkaxs6Kd",
        "colab_type": "code",
        "colab": {
          "base_uri": "https://localhost:8080/",
          "height": 133
        },
        "outputId": "074dfdc8-7002-4813-cf9b-35a82909d019"
      },
      "source": [
        "import keras\n",
        "from keras.datasets import mnist\n",
        "\n",
        "(x_train, y_train), (x_test, y_test) = mnist.load_data()\n",
        "\n",
        "from keras import backend as K\n",
        "\n",
        "img_rows, img_cols = 28, 28\n",
        "batch_size = 1000\n",
        "num_classes = 10\n",
        "epochs = 1\n",
        "colors = 1\n",
        "\n",
        "if K.image_data_format() == 'channels_first':\n",
        "    x_train = x_train.reshape(x_train.shape[0], colors, img_rows, img_cols)\n",
        "    x_test = x_test.reshape(x_test.shape[0], colors, img_rows, img_cols)\n",
        "    input_shape = (colors, img_rows, img_cols)\n",
        "else:\n",
        "    x_train = x_train.reshape(x_train.shape[0], img_rows, img_cols, colors)\n",
        "    x_test = x_test.reshape(x_test.shape[0], img_rows, img_cols, colors)\n",
        "    input_shape = (img_rows, img_cols, colors)\n",
        "\n",
        "x_train = x_train.astype('float32')\n",
        "x_test = x_test.astype('float32')\n",
        "x_train /= 255\n",
        "x_test /= 255\n",
        "\n",
        "print('x_train shape:', x_train.shape)\n",
        "print(x_train.shape[0], 'train samples')\n",
        "print(x_test.shape[0], 'test samples')\n",
        "\n",
        "pre_y_train = y_train\n",
        "pre_y_test = y_test\n",
        "\n",
        "y_test = keras.utils.to_categorical(y_test, 20)\n",
        "y_train = keras.utils.to_categorical(y_train, 20)\n",
        "\n",
        "import keras\n",
        "from keras.datasets import fashion_mnist\n",
        "import numpy as np\n",
        "\n",
        "(x_train_h, y_train_h), (x_test_h, y_test_h) = fashion_mnist.load_data()\n",
        "\n",
        "x_train_h = x_train_h/255\n",
        "x_test_h = x_test_h/255\n",
        "\n",
        "y_train_h = np.copy(y_train_h)\n",
        "y_test_h = np.copy(y_test_h)\n",
        "\n",
        "y_train_h += 10\n",
        "y_test_h += 10\n",
        "\n",
        "x_train_h = np.reshape(x_train_h,(60000,28,28,1))\n",
        "\n",
        "pre_y_train_h = y_train_h\n",
        "pre_y_test_h = y_test_h\n",
        "\n",
        "y_test_h = keras.utils.to_categorical(y_test_h, 20)\n",
        "y_train_h = keras.utils.to_categorical(y_train_h, 20)"
      ],
      "execution_count": 1,
      "outputs": [
        {
          "output_type": "stream",
          "text": [
            "Using TensorFlow backend.\n"
          ],
          "name": "stderr"
        },
        {
          "output_type": "display_data",
          "data": {
            "text/html": [
              "<p style=\"color: red;\">\n",
              "The default version of TensorFlow in Colab will soon switch to TensorFlow 2.x.<br>\n",
              "We recommend you <a href=\"https://www.tensorflow.org/guide/migrate\" target=\"_blank\">upgrade</a> now \n",
              "or ensure your notebook will continue to use TensorFlow 1.x via the <code>%tensorflow_version 1.x</code> magic:\n",
              "<a href=\"https://colab.research.google.com/notebooks/tensorflow_version.ipynb\" target=\"_blank\">more info</a>.</p>\n"
            ],
            "text/plain": [
              "<IPython.core.display.HTML object>"
            ]
          },
          "metadata": {
            "tags": []
          }
        },
        {
          "output_type": "stream",
          "text": [
            "x_train shape: (60000, 28, 28, 1)\n",
            "60000 train samples\n",
            "10000 test samples\n"
          ],
          "name": "stdout"
        }
      ]
    },
    {
      "cell_type": "markdown",
      "metadata": {
        "id": "9yOZUPattZYq",
        "colab_type": "text"
      },
      "source": [
        "# Creating a CNN as our base model"
      ]
    },
    {
      "cell_type": "code",
      "metadata": {
        "id": "I9qstCcrtUkk",
        "colab_type": "code",
        "colab": {
          "base_uri": "https://localhost:8080/",
          "height": 332
        },
        "outputId": "35c8e572-ba8b-4083-dffb-ed9f8a79fb91"
      },
      "source": [
        "from keras.models import Sequential\n",
        "from keras.layers import Flatten, Dense, Conv2D, Activation, Dropout, MaxPooling2D\n",
        "\n",
        "model = Sequential()\n",
        "model.add(Conv2D(32, (3, 3), padding='same',input_shape=x_train.shape[1:],name='conv_1'))\n",
        "model.add(Activation('relu'))\n",
        "model.add(Conv2D(32, (3, 3),name='conv_1b'))\n",
        "model.add(Activation('relu'))\n",
        "model.add(MaxPooling2D(pool_size=(2, 2)))\n",
        "model.add(Dropout(0.25))\n",
        "\n",
        "model.add(Conv2D(64, (3, 3), padding='same',name='conv_1c'))\n",
        "model.add(Activation('relu'))\n",
        "model.add(Conv2D(64, (3, 3),name='conv_1d'))\n",
        "model.add(Activation('relu'))\n",
        "model.add(MaxPooling2D(pool_size=(2, 2)))\n",
        "model.add(Dropout(0.25))\n",
        "\n",
        "model.add(Flatten())\n",
        "model.add(Dense(512))\n",
        "model.add(Activation('relu'))\n",
        "model.add(Dropout(0.5))\n",
        "model.add(Dense(20))\n",
        "model.add(Activation('softmax'))\n",
        "model.compile(loss=keras.losses.categorical_crossentropy,\n",
        "              optimizer=keras.optimizers.Adadelta(),\n",
        "              metrics=['accuracy'])"
      ],
      "execution_count": 2,
      "outputs": [
        {
          "output_type": "stream",
          "text": [
            "WARNING:tensorflow:From /usr/local/lib/python3.6/dist-packages/keras/backend/tensorflow_backend.py:66: The name tf.get_default_graph is deprecated. Please use tf.compat.v1.get_default_graph instead.\n",
            "\n",
            "WARNING:tensorflow:From /usr/local/lib/python3.6/dist-packages/keras/backend/tensorflow_backend.py:541: The name tf.placeholder is deprecated. Please use tf.compat.v1.placeholder instead.\n",
            "\n",
            "WARNING:tensorflow:From /usr/local/lib/python3.6/dist-packages/keras/backend/tensorflow_backend.py:4432: The name tf.random_uniform is deprecated. Please use tf.random.uniform instead.\n",
            "\n",
            "WARNING:tensorflow:From /usr/local/lib/python3.6/dist-packages/keras/backend/tensorflow_backend.py:4267: The name tf.nn.max_pool is deprecated. Please use tf.nn.max_pool2d instead.\n",
            "\n",
            "WARNING:tensorflow:From /usr/local/lib/python3.6/dist-packages/keras/backend/tensorflow_backend.py:148: The name tf.placeholder_with_default is deprecated. Please use tf.compat.v1.placeholder_with_default instead.\n",
            "\n",
            "WARNING:tensorflow:From /usr/local/lib/python3.6/dist-packages/keras/backend/tensorflow_backend.py:3733: calling dropout (from tensorflow.python.ops.nn_ops) with keep_prob is deprecated and will be removed in a future version.\n",
            "Instructions for updating:\n",
            "Please use `rate` instead of `keep_prob`. Rate should be set to `rate = 1 - keep_prob`.\n",
            "WARNING:tensorflow:From /usr/local/lib/python3.6/dist-packages/keras/optimizers.py:793: The name tf.train.Optimizer is deprecated. Please use tf.compat.v1.train.Optimizer instead.\n",
            "\n",
            "WARNING:tensorflow:From /usr/local/lib/python3.6/dist-packages/keras/backend/tensorflow_backend.py:3576: The name tf.log is deprecated. Please use tf.math.log instead.\n",
            "\n"
          ],
          "name": "stdout"
        }
      ]
    },
    {
      "cell_type": "markdown",
      "metadata": {
        "id": "GuuyfdSBtgsL",
        "colab_type": "text"
      },
      "source": [
        "# Training the model on MNIST Handwritten digits"
      ]
    },
    {
      "cell_type": "code",
      "metadata": {
        "id": "oZD4PAoGtchb",
        "colab_type": "code",
        "colab": {
          "base_uri": "https://localhost:8080/",
          "height": 541
        },
        "outputId": "323e4f6a-e8fd-4e9e-9827-0ac635c53de3"
      },
      "source": [
        "history = model.fit(x_train,y_train,verbose=1,epochs=5,batch_size=100)"
      ],
      "execution_count": 3,
      "outputs": [
        {
          "output_type": "stream",
          "text": [
            "WARNING:tensorflow:From /usr/local/lib/python3.6/dist-packages/tensorflow_core/python/ops/math_grad.py:1424: where (from tensorflow.python.ops.array_ops) is deprecated and will be removed in a future version.\n",
            "Instructions for updating:\n",
            "Use tf.where in 2.0, which has the same broadcast rule as np.where\n",
            "WARNING:tensorflow:From /usr/local/lib/python3.6/dist-packages/keras/backend/tensorflow_backend.py:1033: The name tf.assign_add is deprecated. Please use tf.compat.v1.assign_add instead.\n",
            "\n",
            "WARNING:tensorflow:From /usr/local/lib/python3.6/dist-packages/keras/backend/tensorflow_backend.py:1020: The name tf.assign is deprecated. Please use tf.compat.v1.assign instead.\n",
            "\n",
            "WARNING:tensorflow:From /usr/local/lib/python3.6/dist-packages/keras/backend/tensorflow_backend.py:3005: The name tf.Session is deprecated. Please use tf.compat.v1.Session instead.\n",
            "\n",
            "Epoch 1/5\n",
            "WARNING:tensorflow:From /usr/local/lib/python3.6/dist-packages/keras/backend/tensorflow_backend.py:190: The name tf.get_default_session is deprecated. Please use tf.compat.v1.get_default_session instead.\n",
            "\n",
            "WARNING:tensorflow:From /usr/local/lib/python3.6/dist-packages/keras/backend/tensorflow_backend.py:197: The name tf.ConfigProto is deprecated. Please use tf.compat.v1.ConfigProto instead.\n",
            "\n",
            "WARNING:tensorflow:From /usr/local/lib/python3.6/dist-packages/keras/backend/tensorflow_backend.py:207: The name tf.global_variables is deprecated. Please use tf.compat.v1.global_variables instead.\n",
            "\n",
            "WARNING:tensorflow:From /usr/local/lib/python3.6/dist-packages/keras/backend/tensorflow_backend.py:216: The name tf.is_variable_initialized is deprecated. Please use tf.compat.v1.is_variable_initialized instead.\n",
            "\n",
            "WARNING:tensorflow:From /usr/local/lib/python3.6/dist-packages/keras/backend/tensorflow_backend.py:223: The name tf.variables_initializer is deprecated. Please use tf.compat.v1.variables_initializer instead.\n",
            "\n",
            "60000/60000 [==============================] - 9s 150us/step - loss: 0.2391 - acc: 0.9257\n",
            "Epoch 2/5\n",
            "60000/60000 [==============================] - 6s 92us/step - loss: 0.0668 - acc: 0.9803\n",
            "Epoch 3/5\n",
            "60000/60000 [==============================] - 6s 93us/step - loss: 0.0479 - acc: 0.9845\n",
            "Epoch 4/5\n",
            "60000/60000 [==============================] - 6s 92us/step - loss: 0.0398 - acc: 0.9878\n",
            "Epoch 5/5\n",
            "60000/60000 [==============================] - 6s 93us/step - loss: 0.0328 - acc: 0.9899\n"
          ],
          "name": "stdout"
        }
      ]
    },
    {
      "cell_type": "code",
      "metadata": {
        "id": "ozn11nX1x7AF",
        "colab_type": "code",
        "colab": {}
      },
      "source": [
        "original_weights = model.get_weights()"
      ],
      "execution_count": 0,
      "outputs": []
    },
    {
      "cell_type": "markdown",
      "metadata": {
        "id": "pb41kr4YtluI",
        "colab_type": "text"
      },
      "source": [
        "# Implementing sweep rehearsal"
      ]
    },
    {
      "cell_type": "code",
      "metadata": {
        "id": "Hwvq-TEZtkJP",
        "colab_type": "code",
        "colab": {
          "base_uri": "https://localhost:8080/",
          "height": 1000
        },
        "outputId": "95ef7f12-1045-43fa-e623-0f1877a3dac0"
      },
      "source": [
        "model.set_weights(original_weights)\n",
        "\n",
        "import random\n",
        "\n",
        "epochs = 30\n",
        "\n",
        "old_task_retention=[]\n",
        "\n",
        "for epoch_number in range(epochs):\n",
        "  print(\" \")\n",
        "  print(\"Epoch number: \",epoch_number)\n",
        "  \n",
        "  model.fit(x_train_h,y_train_h,epochs=1,batch_size=100,verbose=1)\n",
        "  \n",
        "  # Implementing the sweep rehearsal here\n",
        "  sweep_x_train = np.zeros((0,28,28,1))\n",
        "  sweep_y_train = np.zeros((0,20))\n",
        "  \n",
        "  for i in range(3):\n",
        "    random_number = random.choice(range(10))\n",
        "    print(\"Generated random number is: \",random_number)\n",
        "    sweep_x_train = np.vstack((sweep_x_train,x_train[np.where(pre_y_train==random_number)]))\n",
        "    sweep_y_train = np.vstack((sweep_y_train,y_train[np.where(pre_y_train==random_number)]))\n",
        "\n",
        "  print(\"Shape of data is: \",sweep_x_train.shape, sweep_y_train.shape)\n",
        "  history_of_new_task = model.fit(sweep_x_train,sweep_y_train,validation_data=(x_test,y_test))\n",
        "  old_task_retention.append(history_of_new_task.history[\"val_acc\"])"
      ],
      "execution_count": 11,
      "outputs": [
        {
          "output_type": "stream",
          "text": [
            " \n",
            "Epoch number:  0\n",
            "Epoch 1/1\n",
            "60000/60000 [==============================] - 6s 97us/step - loss: 0.5281 - acc: 0.8142\n",
            "Generated random number is:  3\n",
            "Generated random number is:  3\n",
            "Generated random number is:  1\n",
            "Shape of data is:  (19004, 28, 28, 1) (19004, 20)\n",
            "Train on 19004 samples, validate on 10000 samples\n",
            "Epoch 1/1\n",
            "19004/19004 [==============================] - 5s 238us/step - loss: 0.0076 - acc: 0.9979 - val_loss: 1.3555 - val_acc: 0.7239\n",
            " \n",
            "Epoch number:  1\n",
            "Epoch 1/1\n",
            "60000/60000 [==============================] - 6s 97us/step - loss: 0.3276 - acc: 0.8806\n",
            "Generated random number is:  9\n",
            "Generated random number is:  6\n",
            "Generated random number is:  1\n",
            "Shape of data is:  (18609, 28, 28, 1) (18609, 20)\n",
            "Train on 18609 samples, validate on 10000 samples\n",
            "Epoch 1/1\n",
            "18609/18609 [==============================] - 5s 245us/step - loss: 0.0179 - acc: 0.9960 - val_loss: 1.1601 - val_acc: 0.7044\n",
            " \n",
            "Epoch number:  2\n",
            "Epoch 1/1\n",
            "60000/60000 [==============================] - 6s 96us/step - loss: 0.2852 - acc: 0.8956\n",
            "Generated random number is:  4\n",
            "Generated random number is:  6\n",
            "Generated random number is:  7\n",
            "Shape of data is:  (18025, 28, 28, 1) (18025, 20)\n",
            "Train on 18025 samples, validate on 10000 samples\n",
            "Epoch 1/1\n",
            "18025/18025 [==============================] - 4s 247us/step - loss: 0.0220 - acc: 0.9943 - val_loss: 1.1267 - val_acc: 0.7043\n",
            " \n",
            "Epoch number:  3\n",
            "Epoch 1/1\n",
            "60000/60000 [==============================] - 6s 96us/step - loss: 0.2619 - acc: 0.9054\n",
            "Generated random number is:  0\n",
            "Generated random number is:  9\n",
            "Generated random number is:  4\n",
            "Shape of data is:  (17714, 28, 28, 1) (17714, 20)\n",
            "Train on 17714 samples, validate on 10000 samples\n",
            "Epoch 1/1\n",
            "17714/17714 [==============================] - 4s 248us/step - loss: 0.0389 - acc: 0.9901 - val_loss: 0.8558 - val_acc: 0.7395\n",
            " \n",
            "Epoch number:  4\n",
            "Epoch 1/1\n",
            "60000/60000 [==============================] - 6s 97us/step - loss: 0.2465 - acc: 0.9102\n",
            "Generated random number is:  0\n",
            "Generated random number is:  6\n",
            "Generated random number is:  5\n",
            "Shape of data is:  (17262, 28, 28, 1) (17262, 20)\n",
            "Train on 17262 samples, validate on 10000 samples\n",
            "Epoch 1/1\n",
            "17262/17262 [==============================] - 4s 245us/step - loss: 0.0290 - acc: 0.9928 - val_loss: 0.7606 - val_acc: 0.7797\n",
            " \n",
            "Epoch number:  5\n",
            "Epoch 1/1\n",
            "60000/60000 [==============================] - 6s 95us/step - loss: 0.2331 - acc: 0.9154\n",
            "Generated random number is:  8\n",
            "Generated random number is:  9\n",
            "Generated random number is:  1\n",
            "Shape of data is:  (18542, 28, 28, 1) (18542, 20)\n",
            "Train on 18542 samples, validate on 10000 samples\n",
            "Epoch 1/1\n",
            "18542/18542 [==============================] - 4s 237us/step - loss: 0.0260 - acc: 0.9932 - val_loss: 1.3673 - val_acc: 0.6496\n",
            " \n",
            "Epoch number:  6\n",
            "Epoch 1/1\n",
            "60000/60000 [==============================] - 6s 96us/step - loss: 0.2205 - acc: 0.9200\n",
            "Generated random number is:  1\n",
            "Generated random number is:  9\n",
            "Generated random number is:  1\n",
            "Shape of data is:  (19433, 28, 28, 1) (19433, 20)\n",
            "Train on 19433 samples, validate on 10000 samples\n",
            "Epoch 1/1\n",
            "19433/19433 [==============================] - 5s 237us/step - loss: 0.0042 - acc: 0.9988 - val_loss: 2.1342 - val_acc: 0.5703\n",
            " \n",
            "Epoch number:  7\n",
            "Epoch 1/1\n",
            "60000/60000 [==============================] - 6s 97us/step - loss: 0.2094 - acc: 0.9234\n",
            "Generated random number is:  2\n",
            "Generated random number is:  3\n",
            "Generated random number is:  4\n",
            "Shape of data is:  (17931, 28, 28, 1) (17931, 20)\n",
            "Train on 17931 samples, validate on 10000 samples\n",
            "Epoch 1/1\n",
            "17931/17931 [==============================] - 4s 249us/step - loss: 0.0281 - acc: 0.9919 - val_loss: 0.9799 - val_acc: 0.7197\n",
            " \n",
            "Epoch number:  8\n",
            "Epoch 1/1\n",
            "60000/60000 [==============================] - 6s 96us/step - loss: 0.2012 - acc: 0.9271\n",
            "Generated random number is:  5\n",
            "Generated random number is:  2\n",
            "Generated random number is:  6\n",
            "Shape of data is:  (17297, 28, 28, 1) (17297, 20)\n",
            "Train on 17297 samples, validate on 10000 samples\n",
            "Epoch 1/1\n",
            "17297/17297 [==============================] - 4s 244us/step - loss: 0.0202 - acc: 0.9947 - val_loss: 1.2947 - val_acc: 0.6772\n",
            " \n",
            "Epoch number:  9\n",
            "Epoch 1/1\n",
            "60000/60000 [==============================] - 6s 97us/step - loss: 0.1968 - acc: 0.9289\n",
            "Generated random number is:  7\n",
            "Generated random number is:  1\n",
            "Generated random number is:  9\n",
            "Shape of data is:  (18956, 28, 28, 1) (18956, 20)\n",
            "Train on 18956 samples, validate on 10000 samples\n",
            "Epoch 1/1\n",
            "18956/18956 [==============================] - 4s 233us/step - loss: 0.0260 - acc: 0.9926 - val_loss: 0.8779 - val_acc: 0.7644\n",
            " \n",
            "Epoch number:  10\n",
            "Epoch 1/1\n",
            "60000/60000 [==============================] - 6s 97us/step - loss: 0.1896 - acc: 0.9316\n",
            "Generated random number is:  6\n",
            "Generated random number is:  6\n",
            "Generated random number is:  3\n",
            "Shape of data is:  (17967, 28, 28, 1) (17967, 20)\n",
            "Train on 17967 samples, validate on 10000 samples\n",
            "Epoch 1/1\n",
            "17967/17967 [==============================] - 4s 244us/step - loss: 0.0062 - acc: 0.9981 - val_loss: 1.6020 - val_acc: 0.6228\n",
            " \n",
            "Epoch number:  11\n",
            "Epoch 1/1\n",
            "60000/60000 [==============================] - 6s 96us/step - loss: 0.1818 - acc: 0.9338\n",
            "Generated random number is:  8\n",
            "Generated random number is:  1\n",
            "Generated random number is:  9\n",
            "Shape of data is:  (18542, 28, 28, 1) (18542, 20)\n",
            "Train on 18542 samples, validate on 10000 samples\n",
            "Epoch 1/1\n",
            "18542/18542 [==============================] - 4s 238us/step - loss: 0.0187 - acc: 0.9949 - val_loss: 1.4953 - val_acc: 0.5996\n",
            " \n",
            "Epoch number:  12\n",
            "Epoch 1/1\n",
            "60000/60000 [==============================] - 6s 97us/step - loss: 0.1795 - acc: 0.9341\n",
            "Generated random number is:  2\n",
            "Generated random number is:  5\n",
            "Generated random number is:  6\n",
            "Shape of data is:  (17297, 28, 28, 1) (17297, 20)\n",
            "Train on 17297 samples, validate on 10000 samples\n",
            "Epoch 1/1\n",
            "17297/17297 [==============================] - 4s 238us/step - loss: 0.0228 - acc: 0.9928 - val_loss: 1.7993 - val_acc: 0.5765\n",
            " \n",
            "Epoch number:  13\n",
            "Epoch 1/1\n",
            "60000/60000 [==============================] - 6s 97us/step - loss: 0.1746 - acc: 0.9370\n",
            "Generated random number is:  2\n",
            "Generated random number is:  9\n",
            "Generated random number is:  3\n",
            "Shape of data is:  (18038, 28, 28, 1) (18038, 20)\n",
            "Train on 18038 samples, validate on 10000 samples\n",
            "Epoch 1/1\n",
            "18038/18038 [==============================] - 4s 245us/step - loss: 0.0217 - acc: 0.9930 - val_loss: 1.0467 - val_acc: 0.6962\n",
            " \n",
            "Epoch number:  14\n",
            "Epoch 1/1\n",
            "60000/60000 [==============================] - 6s 97us/step - loss: 0.1700 - acc: 0.9371\n",
            "Generated random number is:  9\n",
            "Generated random number is:  9\n",
            "Generated random number is:  2\n",
            "Shape of data is:  (17856, 28, 28, 1) (17856, 20)\n",
            "Train on 17856 samples, validate on 10000 samples\n",
            "Epoch 1/1\n",
            "17856/17856 [==============================] - 4s 243us/step - loss: 0.0045 - acc: 0.9987 - val_loss: 1.7001 - val_acc: 0.6068\n",
            " \n",
            "Epoch number:  15\n",
            "Epoch 1/1\n",
            "60000/60000 [==============================] - 6s 97us/step - loss: 0.1620 - acc: 0.9409\n",
            "Generated random number is:  3\n",
            "Generated random number is:  9\n",
            "Generated random number is:  5\n",
            "Shape of data is:  (17501, 28, 28, 1) (17501, 20)\n",
            "Train on 17501 samples, validate on 10000 samples\n",
            "Epoch 1/1\n",
            "17501/17501 [==============================] - 4s 249us/step - loss: 0.0242 - acc: 0.9918 - val_loss: 1.5098 - val_acc: 0.6440\n",
            " \n",
            "Epoch number:  16\n",
            "Epoch 1/1\n",
            "60000/60000 [==============================] - 6s 99us/step - loss: 0.1601 - acc: 0.9409\n",
            "Generated random number is:  7\n",
            "Generated random number is:  1\n",
            "Generated random number is:  1\n",
            "Shape of data is:  (19749, 28, 28, 1) (19749, 20)\n",
            "Train on 19749 samples, validate on 10000 samples\n",
            "Epoch 1/1\n",
            "19749/19749 [==============================] - 5s 235us/step - loss: 0.0146 - acc: 0.9959 - val_loss: 1.0857 - val_acc: 0.7072\n",
            " \n",
            "Epoch number:  17\n",
            "Epoch 1/1\n",
            "60000/60000 [==============================] - 6s 97us/step - loss: 0.1604 - acc: 0.9418\n",
            "Generated random number is:  7\n",
            "Generated random number is:  6\n",
            "Generated random number is:  8\n",
            "Shape of data is:  (18034, 28, 28, 1) (18034, 20)\n",
            "Train on 18034 samples, validate on 10000 samples\n",
            "Epoch 1/1\n",
            "18034/18034 [==============================] - 4s 240us/step - loss: 0.0154 - acc: 0.9952 - val_loss: 1.3582 - val_acc: 0.6770\n",
            " \n",
            "Epoch number:  18\n",
            "Epoch 1/1\n",
            "60000/60000 [==============================] - 6s 96us/step - loss: 0.1517 - acc: 0.9444\n",
            "Generated random number is:  2\n",
            "Generated random number is:  2\n",
            "Generated random number is:  2\n",
            "Shape of data is:  (17874, 28, 28, 1) (17874, 20)\n",
            "Train on 17874 samples, validate on 10000 samples\n",
            "Epoch 1/1\n",
            "17874/17874 [==============================] - 4s 241us/step - loss: 0.0101 - acc: 0.9983 - val_loss: 3.0984 - val_acc: 0.4383\n",
            " \n",
            "Epoch number:  19\n",
            "Epoch 1/1\n",
            "60000/60000 [==============================] - 6s 96us/step - loss: 0.1482 - acc: 0.9464\n",
            "Generated random number is:  1\n",
            "Generated random number is:  2\n",
            "Generated random number is:  8\n",
            "Shape of data is:  (18551, 28, 28, 1) (18551, 20)\n",
            "Train on 18551 samples, validate on 10000 samples\n",
            "Epoch 1/1\n",
            "18551/18551 [==============================] - 4s 240us/step - loss: 0.0246 - acc: 0.9923 - val_loss: 0.9535 - val_acc: 0.7244\n",
            " \n",
            "Epoch number:  20\n",
            "Epoch 1/1\n",
            "60000/60000 [==============================] - 6s 97us/step - loss: 0.1444 - acc: 0.9476\n",
            "Generated random number is:  8\n",
            "Generated random number is:  5\n",
            "Generated random number is:  6\n",
            "Shape of data is:  (17190, 28, 28, 1) (17190, 20)\n",
            "Train on 17190 samples, validate on 10000 samples\n",
            "Epoch 1/1\n",
            "17190/17190 [==============================] - 4s 249us/step - loss: 0.0300 - acc: 0.9914 - val_loss: 1.0337 - val_acc: 0.7108\n",
            " \n",
            "Epoch number:  21\n",
            "Epoch 1/1\n",
            "60000/60000 [==============================] - 6s 97us/step - loss: 0.1451 - acc: 0.9459\n",
            "Generated random number is:  4\n",
            "Generated random number is:  6\n",
            "Generated random number is:  8\n",
            "Shape of data is:  (17611, 28, 28, 1) (17611, 20)\n",
            "Train on 17611 samples, validate on 10000 samples\n",
            "Epoch 1/1\n",
            "17611/17611 [==============================] - 4s 242us/step - loss: 0.0200 - acc: 0.9931 - val_loss: 1.5090 - val_acc: 0.6247\n",
            " \n",
            "Epoch number:  22\n",
            "Epoch 1/1\n",
            "60000/60000 [==============================] - 6s 96us/step - loss: 0.1417 - acc: 0.9474\n",
            "Generated random number is:  6\n",
            "Generated random number is:  3\n",
            "Generated random number is:  5\n",
            "Shape of data is:  (17470, 28, 28, 1) (17470, 20)\n",
            "Train on 17470 samples, validate on 10000 samples\n",
            "Epoch 1/1\n",
            "17470/17470 [==============================] - 4s 249us/step - loss: 0.0253 - acc: 0.9925 - val_loss: 1.3224 - val_acc: 0.6834\n",
            " \n",
            "Epoch number:  23\n",
            "Epoch 1/1\n",
            "60000/60000 [==============================] - 6s 96us/step - loss: 0.1372 - acc: 0.9491\n",
            "Generated random number is:  7\n",
            "Generated random number is:  6\n",
            "Generated random number is:  4\n",
            "Shape of data is:  (18025, 28, 28, 1) (18025, 20)\n",
            "Train on 18025 samples, validate on 10000 samples\n",
            "Epoch 1/1\n",
            "18025/18025 [==============================] - 4s 241us/step - loss: 0.0149 - acc: 0.9958 - val_loss: 1.5869 - val_acc: 0.6905\n",
            " \n",
            "Epoch number:  24\n",
            "Epoch 1/1\n",
            "60000/60000 [==============================] - 6s 96us/step - loss: 0.1399 - acc: 0.9490\n",
            "Generated random number is:  5\n",
            "Generated random number is:  7\n",
            "Generated random number is:  3\n",
            "Shape of data is:  (17817, 28, 28, 1) (17817, 20)\n",
            "Train on 17817 samples, validate on 10000 samples\n",
            "Epoch 1/1\n",
            "17817/17817 [==============================] - 5s 254us/step - loss: 0.0204 - acc: 0.9933 - val_loss: 1.2140 - val_acc: 0.6934\n",
            " \n",
            "Epoch number:  25\n",
            "Epoch 1/1\n",
            "60000/60000 [==============================] - 6s 96us/step - loss: 0.1350 - acc: 0.9507\n",
            "Generated random number is:  4\n",
            "Generated random number is:  9\n",
            "Generated random number is:  1\n",
            "Shape of data is:  (18533, 28, 28, 1) (18533, 20)\n",
            "Train on 18533 samples, validate on 10000 samples\n",
            "Epoch 1/1\n",
            "18533/18533 [==============================] - 4s 236us/step - loss: 0.0308 - acc: 0.9909 - val_loss: 0.6848 - val_acc: 0.7896\n",
            " \n",
            "Epoch number:  26\n",
            "Epoch 1/1\n",
            "60000/60000 [==============================] - 6s 95us/step - loss: 0.1323 - acc: 0.9514\n",
            "Generated random number is:  3\n",
            "Generated random number is:  2\n",
            "Generated random number is:  2\n",
            "Shape of data is:  (18047, 28, 28, 1) (18047, 20)\n",
            "Train on 18047 samples, validate on 10000 samples\n",
            "Epoch 1/1\n",
            "18047/18047 [==============================] - 4s 246us/step - loss: 0.0155 - acc: 0.9958 - val_loss: 1.2588 - val_acc: 0.7132\n",
            " \n",
            "Epoch number:  27\n",
            "Epoch 1/1\n",
            "60000/60000 [==============================] - 6s 96us/step - loss: 0.1277 - acc: 0.9535\n",
            "Generated random number is:  2\n",
            "Generated random number is:  2\n",
            "Generated random number is:  6\n",
            "Shape of data is:  (17834, 28, 28, 1) (17834, 20)\n",
            "Train on 17834 samples, validate on 10000 samples\n",
            "Epoch 1/1\n",
            "17834/17834 [==============================] - 4s 248us/step - loss: 0.0041 - acc: 0.9983 - val_loss: 1.5457 - val_acc: 0.7192\n",
            " \n",
            "Epoch number:  28\n",
            "Epoch 1/1\n",
            "60000/60000 [==============================] - 6s 97us/step - loss: 0.1263 - acc: 0.9541\n",
            "Generated random number is:  4\n",
            "Generated random number is:  3\n",
            "Generated random number is:  8\n",
            "Shape of data is:  (17824, 28, 28, 1) (17824, 20)\n",
            "Train on 17824 samples, validate on 10000 samples\n",
            "Epoch 1/1\n",
            "17824/17824 [==============================] - 4s 238us/step - loss: 0.0198 - acc: 0.9946 - val_loss: 1.1587 - val_acc: 0.7090\n",
            " \n",
            "Epoch number:  29\n",
            "Epoch 1/1\n",
            "60000/60000 [==============================] - 6s 95us/step - loss: 0.1236 - acc: 0.9546\n",
            "Generated random number is:  4\n",
            "Generated random number is:  3\n",
            "Generated random number is:  9\n",
            "Shape of data is:  (17922, 28, 28, 1) (17922, 20)\n",
            "Train on 17922 samples, validate on 10000 samples\n",
            "Epoch 1/1\n",
            "17922/17922 [==============================] - 4s 245us/step - loss: 0.0253 - acc: 0.9921 - val_loss: 1.0772 - val_acc: 0.6931\n"
          ],
          "name": "stdout"
        }
      ]
    },
    {
      "cell_type": "code",
      "metadata": {
        "id": "kUQnVFfOxPPu",
        "colab_type": "code",
        "colab": {
          "base_uri": "https://localhost:8080/",
          "height": 52
        },
        "outputId": "403db552-2303-4438-86c3-d7f7f35cce75"
      },
      "source": [
        "x_test_h = np.reshape(x_test_h,(10000,28,28,1))\n",
        "print(\"Accuracy on Fashion: \",model.evaluate(x_test_h,y_test_h)[1]*100)"
      ],
      "execution_count": 12,
      "outputs": [
        {
          "output_type": "stream",
          "text": [
            "10000/10000 [==============================] - 1s 61us/step\n",
            "Accuracy on Fashion:  90.94\n"
          ],
          "name": "stdout"
        }
      ]
    },
    {
      "cell_type": "code",
      "metadata": {
        "id": "VQamtYl5xoWm",
        "colab_type": "code",
        "colab": {
          "base_uri": "https://localhost:8080/",
          "height": 295
        },
        "outputId": "af69a76f-7492-46b2-bf1b-23465d9900e3"
      },
      "source": [
        "import matplotlib.pyplot as plt\n",
        "plt.plot(range(30),old_task_retention)\n",
        "plt.grid()\n",
        "plt.xlabel(\"Epochs\")\n",
        "plt.ylabel(\"Retention\")\n",
        "plt.title(\"Retention vs Epochs\")\n",
        "plt.show()"
      ],
      "execution_count": 13,
      "outputs": [
        {
          "output_type": "display_data",
          "data": {
            "image/png": "[encoded data removed]",
            "text/plain": [
              "<Figure size 432x288 with 1 Axes>"
            ]
          },
          "metadata": {
            "tags": []
          }
        }
      ]
    },
    {
      "cell_type": "code",
      "metadata": {
        "id": "gTo2ieOOzHd7",
        "colab_type": "code",
        "colab": {}
      },
      "source": [
        ""
      ],
      "execution_count": 0,
      "outputs": []
    }
  ]
}